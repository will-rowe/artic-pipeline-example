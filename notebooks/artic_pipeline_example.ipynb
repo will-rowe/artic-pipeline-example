{
 "cells": [
  {
   "cell_type": "markdown",
   "metadata": {},
   "source": [
    "# ARTIC pipeline example\n",
    "\n",
    "This is a brief run through of the commands needed to run the ARTIC pipeline. We will also cover some of the files which the pipeline produces.\n",
    "\n",
    "***"
   ]
  },
  {
   "cell_type": "markdown",
   "metadata": {},
   "source": [
    "## Using this notebook\n",
    "\n",
    "We are using a [jupyter notebook](https://jupyter.org/) for this example so that we can host it on [Binder](mybinder.org). If you want to run the commands for yourself on the command line, you will need to remove the leading `!` which is before all the code in this notebook (which is telling jupyter to execute a system command).\n",
    "\n",
    "To run this notebook, you can click on each cell and press Run. Be sure to wait for the cell to complete before moving on to the next one. It might take a minute or so for each cell to complete.\n",
    "\n",
    "## Data\n",
    "\n",
    "To begin, we need some data. This repository already has some data for you to use, which was generated from a SARS-COV-2 positive control sample at the University of Birmingham. If you want to obtain the data for yourself, you can run the following:\n",
    "\n",
    "`\n",
    "wget http://artic.s3.climb.ac.uk/BHAM-Run88-PTC.fastq\n",
    "`\n",
    "\n",
    "This test data is only the FASTQ reads from the positive control sample. We have already basecalled, demuxed and filtered them from the original FAST5 data for this sample.\n",
    "\n",
    "> Because we only have FASTQ data, this example will use the **medaka** workflow of the ARTIC pipeline. This is because the **nanopolish** version requires FAST5 data as well as FASTQ.\n",
    "\n",
    "\n",
    "To run the **medaka** workflow ARTIC pipeline on this data, we need to know:\n",
    "\n",
    "* what version of the ARTIC primer scheme was used\n",
    "  * version 3\n",
    "* what [medaka model](https://github.com/nanoporetech/medaka#models) to use\n",
    "  * r941_min_high_g351 (`{pore}_{device}_{caller variant}_{caller version}`)\n",
    "\n",
    "As well as the FASTQ reads, we will also need:\n",
    "\n",
    "* primer scheme (BED format)\n",
    "* reference sequence (FASTA format)\n",
    "\n",
    "### Primer scheme and reference sequence\n",
    "\n",
    "Although the ARTIC pipeline will download these for us, we can also get them for ourselves in order to familiarise ourselves with them:"
   ]
  },
  {
   "cell_type": "code",
   "execution_count": null,
   "metadata": {},
   "outputs": [],
   "source": [
    "!artic-tools get_scheme --schemeVersion 3 scov2"
   ]
  },
  {
   "cell_type": "markdown",
   "metadata": {},
   "source": [
    "This will have downloaded the primer scheme (`scov2.v3.primer.bed`) and the reference sequence (`scov2.v3.reference.fasta`). You can get some quick stats on the primer scheme using artic-tools:"
   ]
  },
  {
   "cell_type": "code",
   "execution_count": null,
   "metadata": {},
   "outputs": [],
   "source": [
    "!artic-tools validate_scheme scov2.v3.primer.bed"
   ]
  },
  {
   "cell_type": "markdown",
   "metadata": {},
   "source": [
    "The primer scheme file is in a BED format, where the columns equate to the following:\n",
    "\n",
    "\n",
    "| column | name       | type         | description                                               |\n",
    "| :----- | :--------- | :----------- | :-------------------------------------------------------- |\n",
    "| 1      | chrom      | string       | primer reference sequence                                 |\n",
    "| 2      | chromStart | int          | starting position of the primer in the reference sequence |\n",
    "| 3      | chomEnd    | int          | ending position of the primer in the reference sequence   |\n",
    "| 4      | name       | string       | primer name                                               |\n",
    "| 5      | primerPool | int          | primer pool<sup>\\*</sup>                                  |\n",
    "| 6      | strand     | string (+/-) | primer direction                                          |\n",
    "\n",
    "<sup>\\*</sup> column 5 in the BED spec is an int for score, whereas here we are using it to denote primerPool.\n",
    "\n",
    "If you want to look at the primer scheme file, we can do that here with some Python:"
   ]
  },
  {
   "cell_type": "code",
   "execution_count": null,
   "metadata": {},
   "outputs": [],
   "source": [
    "with open(\"scov2.v3.primer.bed\", 'r') as f:\n",
    "    print(f.read())"
   ]
  },
  {
   "cell_type": "markdown",
   "metadata": {},
   "source": [
    "## Running the pipeline\n",
    "\n",
    "Now we have the primer scheme, reference sequence and our FASTQ data. We can run the pipeline!"
   ]
  },
  {
   "cell_type": "code",
   "execution_count": null,
   "metadata": {},
   "outputs": [],
   "source": [
    "!artic minion \\\n",
    "    --normalise 200 \\\n",
    "    --threads 2 \\\n",
    "    --medaka \\\n",
    "    --medaka-model r941_min_high_g351 \\\n",
    "    --strict \\\n",
    "    --read-file ../data/BHAM-Run88-PTC.fastq.gz \\\n",
    "    scov2/V3 \\\n",
    "    my_example"
   ]
  },
  {
   "cell_type": "markdown",
   "metadata": {},
   "source": [
    "That's it! Let's have a quick run through of the parameters we used so that we can understand what was happening.\n",
    "\n",
    "|parameter|explanation|\n",
    "|:--------|:----------|\n",
    "|`--normalise`| This caps amplicon coverage to 200 reads, used mainly to speed up the pipeline run. |\n",
    "|`--threads`| This sets the number of CPU threads to use during the pipeline. We set this to 2 here as that is the limit on Binder, but if you are playing along at home you can increase this to make things run a bit more quickly. |\n",
    "|`--medaka`| This tells the ARTIC pipeline to use the **medaka** workflow|\n",
    "|`--medaka-model`| This specifies which model to use for the **medaka** program calls.|\n",
    "|`--strict`| This runs an additional filtering of reported variants, checking them in overlap regions of the primer scheme to see if they are artifacts reported in only one primer pool.|\n",
    "|`--read-file`| This tells the pipeline where to find the reads.|\n",
    "|`scov/V3`| This specifies the name of the primer scheme and the version to use. If it isn't found locally, the pipeline will try finding it in the ARTIC primer scheme repository.|\n",
    "|`my_exmple`| The name to give this pipeline run, all output will have this prepended to the filenames.|\n"
   ]
  },
  {
   "cell_type": "markdown",
   "metadata": {},
   "source": []
  },
  {
   "cell_type": "code",
   "execution_count": null,
   "metadata": {},
   "outputs": [],
   "source": [
    "!multiqc ."
   ]
  },
  {
   "cell_type": "code",
   "execution_count": null,
   "metadata": {},
   "outputs": [],
   "source": []
  }
 ],
 "metadata": {
  "kernelspec": {
   "display_name": "Python 3",
   "language": "python",
   "name": "python3"
  },
  "language_info": {
   "codemirror_mode": {
    "name": "ipython",
    "version": 3
   },
   "file_extension": ".py",
   "mimetype": "text/x-python",
   "name": "python",
   "nbconvert_exporter": "python",
   "pygments_lexer": "ipython3",
   "version": "3.7.6"
  }
 },
 "nbformat": 4,
 "nbformat_minor": 4
}
